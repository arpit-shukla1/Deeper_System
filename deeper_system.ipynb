{
 "cells": [
  {
   "cell_type": "code",
   "execution_count": 52,
   "metadata": {},
   "outputs": [],
   "source": [
    "import json\n",
    "import pandas as pd"
   ]
  },
  {
   "cell_type": "code",
   "execution_count": 53,
   "metadata": {},
   "outputs": [],
   "source": [
    "js=pd.read_json('./source_file_2.json')"
   ]
  },
  {
   "cell_type": "code",
   "execution_count": 54,
   "metadata": {
    "scrolled": true
   },
   "outputs": [],
   "source": [
    "js.sort_values(by='priority',inplace=True)"
   ]
  },
  {
   "cell_type": "code",
   "execution_count": 55,
   "metadata": {},
   "outputs": [],
   "source": [
    "watchers=dict()\n",
    "managers=dict()"
   ]
  },
  {
   "cell_type": "code",
   "execution_count": 56,
   "metadata": {},
   "outputs": [],
   "source": [
    "for i in range(js.shape[0]):\n",
    "    for j in js.iloc[i,0]:\n",
    "        try:\n",
    "            managers[j].append(js.iloc[i,1])\n",
    "        except:\n",
    "            managers[j]=[js.iloc[i,1]]\n",
    "    \n",
    "    for j in js.iloc[i,3]:\n",
    "        try:\n",
    "            watchers[j].append(js.iloc[i,1])\n",
    "        except:\n",
    "            watchers[j]=[js.iloc[i,1]]"
   ]
  },
  {
   "cell_type": "code",
   "execution_count": 57,
   "metadata": {},
   "outputs": [],
   "source": [
    "temp=[]\n",
    "for i,j in managers.items():\n",
    "    temp.append({'name':i,'project':j})\n",
    "\n",
    "with open('manager.json','w') as f:\n",
    "    json.dump(temp,f,indent=2)"
   ]
  },
  {
   "cell_type": "code",
   "execution_count": 58,
   "metadata": {},
   "outputs": [],
   "source": [
    "temp=[]\n",
    "for i,j in watchers.items():\n",
    "    temp.append({'name':i,'project':j})\n",
    "\n",
    "with open('watchers.json','w') as f:\n",
    "    json.dump(temp,f,indent=2)"
   ]
  },
  {
   "cell_type": "code",
   "execution_count": null,
   "metadata": {},
   "outputs": [],
   "source": []
  }
 ],
 "metadata": {
  "kernelspec": {
   "display_name": "Python 3",
   "language": "python",
   "name": "python3"
  },
  "language_info": {
   "codemirror_mode": {
    "name": "ipython",
    "version": 3
   },
   "file_extension": ".py",
   "mimetype": "text/x-python",
   "name": "python",
   "nbconvert_exporter": "python",
   "pygments_lexer": "ipython3",
   "version": "3.7.3"
  }
 },
 "nbformat": 4,
 "nbformat_minor": 2
}
